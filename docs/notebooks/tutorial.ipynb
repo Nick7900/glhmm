{
 "cells": [
  {
   "cell_type": "markdown",
   "metadata": {},
   "source": [
    "# Tutorial\n",
    "\n",
    "GLHMM is a Python toolbox with a focus on neuroscience applications but broadly applicable to other domains as well. It implements a generalisation of various types of Hidden Markov Model ([HMM](../glossary.html#hmm)). The toolbox can be applied on multiple data modalities, including fMRI, EEG, MEG, and ECoG, and offers a comprehensive set of HMMs tailored for different data types and analysis goals. The most important configurable aspect is the state distribution, which is parameterized using a regression model. A non-exhaustive list of possible state distributions are: \n",
    "\n",
    "- `Gaussian`: used in fMRI and other neuroimaging modalities.\n",
    "- `Wishart`: employed in fMRI to specifically focus on changes in connectivity (covariance).\n",
    "- `Time-delay embedded`: applied to whole-brain electrophysiological data (MEG or EEG), to capture spectral modulations in the data.\n",
    "- `Autoregressive`: provides a more detailed spectral description for electrophysiological data with a limited number of channels.\n",
    "- `Regression-based decoding`: describes the dynamic relationship between brain activity and ongoing stimuli.\n",
    "- `Regression-based encoding`: emphasizes the spatial interpretation of brain activity in relation to stimuli.\n",
    "\n",
    "\n",
    "## Installation\n",
    "If you have not done so, install the repo using:\n",
    "\n",
    "```pip install glhmm```"
   ]
  },
  {
   "cell_type": "markdown",
   "metadata": {},
   "source": [
    "## Examples\n",
    "\n",
    "Example data is provided on the [OSF project page](https://osf.io/8qcyj/?view_only=119c38072a724e0091db5ba377935666).\n",
    "\n",
    "For an example of running a standard HMM using only one set of time series, see [Example standard Gaussian HMM](./GaussianHMM_example.ipynb).\n",
    "\n",
    "For an example of running a GLHMM using two sets of time series, see [Example GLHMM](./GLHMM_example.ipynb).\n",
    "\n",
    "For an example of running a TDE-HMM and a MAR-HMM on MEG data, and inspecting their spectral components, see [HMM-TDE vs HMM-MAR example](./HMM-TDE_vs_HMM-MAR_example.ipynb)"
   ]
  },
  {
   "cell_type": "markdown",
   "metadata": {},
   "source": [
    "## Relations to behaviour \n",
    "\n",
    "After estimating an HMM, we can explore its connections with an external variable not initially considered in the model. This could involve tasks like predicting age from subject-specific HMMs based on neuroimaging data or examining correlations with physiological factors.<br>\n",
    "Our toolbox supports these types of analyses in the modules [Prediction](https://glhmm.readthedocs.io/en/latest/prediction.html) and [Statistics](https://glhmm.readthedocs.io/en/latest/statistics.html)\n",
    "\n",
    "### Prediction\n",
    "This module enables the utilization of individual brain activity patterns for various applications, including predictions (such as cognitive abilities) and classifications (of subjects or clinical groups, for example). For a tutorial, see [Prediction tutorial](./Prediction_tutorial.ipynb).\n",
    "\n",
    "### Statistics\n",
    "This module provides powerful permutation testing analysis, which allows for statistical significance assessment without data distribution assumptions. It supports various test types, such as between- and within-session/subject tests. Users can choose between permutation testing with regression or correlation for a wide range of research questions. For a tutorial demonstrating the application of testing look at the following examples: \n",
    "- [Testing across subjects](./Testing_across_subjects.ipynb)\n",
    "- [Testing across sessions](./Testing_across_sessions_within_subject.ipynb)\n",
    "- [Testing across trials](./Testing_across_trials_within_session.ipynb)\n",
    "- [Testing across visits](./Testing_across_visits.ipynb)\n"
   ]
  }
 ],
 "metadata": {
  "kernelspec": {
   "display_name": "Python 3 (ipykernel)",
   "language": "python",
   "name": "python3"
  },
  "language_info": {
   "codemirror_mode": {
    "name": "ipython",
    "version": 3
   },
   "file_extension": ".py",
   "mimetype": "text/x-python",
   "name": "python",
   "nbconvert_exporter": "python",
   "pygments_lexer": "ipython3",
   "version": "3.11.4"
  }
 },
 "nbformat": 4,
 "nbformat_minor": 2
}
